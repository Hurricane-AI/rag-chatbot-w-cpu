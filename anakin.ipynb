{
 "cells": [
  {
   "cell_type": "code",
   "execution_count": 12,
   "metadata": {},
   "outputs": [],
   "source": [
    "from langchain_ollama import ChatOllama\n",
    "from langchain.prompts import ChatPromptTemplate\n",
    "from langchain_core.messages import SystemMessage, HumanMessage\n",
    "from langchain_core.prompts import PromptTemplate"
   ]
  },
  {
   "cell_type": "code",
   "execution_count": 10,
   "metadata": {},
   "outputs": [
    {
     "name": "stdout",
     "output_type": "stream",
     "text": [
      "こんにちは！私はAIなので、感情を持っていませんが、いつでもお手伝いできる状態です。今日はどうしましたか？何かお助けできることがありますか？"
     ]
    }
   ],
   "source": [
    "# Ollamaモデルの設定\n",
    "model = ChatOllama(\n",
    "    baseUrl=\"http://localhost:11434\",  # OllamaサーバーのURL\n",
    "    model=\"hf.co/lmstudio-community/Llama-3.3-70B-Instruct-GGUF:Q4_K_M\",  # 使用するモデル名\n",
    "    temperature=0.5 # 応答の多様性\n",
    ")\n",
    "\n",
    "# プロンプトテンプレートの設定\n",
    "messages = [\n",
    "    SystemMessage(\"You are helpful assistant.\"),\n",
    "    HumanMessage(\"こんにちは！元気？\"),\n",
    "]\n",
    "\n",
    "for chunk in model.stream(messages):\n",
    "    print(chunk.content, end=\"\", flush=True)"
   ]
  },
  {
   "cell_type": "code",
   "execution_count": 15,
   "metadata": {},
   "outputs": [
    {
     "name": "stdout",
     "output_type": "stream",
     "text": [
      "チャーハンのレシピです。\n",
      "\n",
      "###材料：\n",
      "\n",
      "-  ご飯：2杯\n",
      "-  卵：2個\n",
      "-  にんじん：1/2本\n",
      "-  玉ねぎ：1/4個\n",
      "-  エビ（冷凍）：100g\n",
      "-  塩：適量\n",
      "-  こしょう：適量\n",
      "-  油：大さじ2\n",
      "\n",
      "### 作り方：\n",
      "\n",
      "1.  玉ねぎとにんじんをみじん切りにします。\n",
      "2.  フライパンに油を入れ、火を中火で加えます。熱くなったら、にんじんと玉ねぎを加えて炒めます。\n",
      "3.  にんじんや玉ねぎが柔らかくなったら、エビを加えてさらに炒めます。\n",
      "4.  次に、ご飯をフライパンに加え、全体をよく混ぜます。\n",
      "5.  卵を別のボウルで溶き、少し塩とこしょうを加えて混ぜます。卵液をフライパンに流し入れ、全体を混ぜながら炒めます。\n",
      "6.  最後に、味を見て必要に応じて塩やこしょうを調節します。\n",
      "7.  ご飯が均等に火が通ったら、完成です。"
     ]
    }
   ],
   "source": [
    "prompt = PromptTemplate.from_template(\n",
    "    \"\"\"以下の料理のレシピを考えてください。\n",
    "    \n",
    "    料理名: {dish}\"\"\"\n",
    ")\n",
    "\n",
    "prompt_value = prompt.invoke({\"dish\": \"チャーハン\"})\n",
    "\n",
    "for chunk in model.stream(prompt_value):\n",
    "    print(chunk.content, end=\"\", flush=True)"
   ]
  },
  {
   "cell_type": "code",
   "execution_count": 21,
   "metadata": {},
   "outputs": [],
   "source": [
    "from pydantic import BaseModel, Field\n",
    "\n",
    "class Recipe(BaseModel):\n",
    "    ingredients: list[str] = Field(description=\"ingredients of the dish\")\n",
    "    steps: list[str] = Field(description=\"steps to cook the dish\")"
   ]
  },
  {
   "cell_type": "code",
   "execution_count": 22,
   "metadata": {},
   "outputs": [
    {
     "name": "stdout",
     "output_type": "stream",
     "text": [
      "The output should be formatted as a JSON instance that conforms to the JSON schema below.\n",
      "\n",
      "As an example, for the schema {\"properties\": {\"foo\": {\"title\": \"Foo\", \"description\": \"a list of strings\", \"type\": \"array\", \"items\": {\"type\": \"string\"}}}, \"required\": [\"foo\"]}\n",
      "the object {\"foo\": [\"bar\", \"baz\"]} is a well-formatted instance of the schema. The object {\"properties\": {\"foo\": [\"bar\", \"baz\"]}} is not well-formatted.\n",
      "\n",
      "Here is the output schema:\n",
      "```\n",
      "{\"properties\": {\"ingredients\": {\"description\": \"ingredients of the dish\", \"items\": {\"type\": \"string\"}, \"title\": \"Ingredients\", \"type\": \"array\"}, \"steps\": {\"description\": \"steps to cook the dish\", \"items\": {\"type\": \"string\"}, \"title\": \"Steps\", \"type\": \"array\"}}, \"required\": [\"ingredients\", \"steps\"]}\n",
      "```\n"
     ]
    }
   ],
   "source": [
    "from langchain_core.output_parsers import PydanticOutputParser\n",
    "\n",
    "output_parser = PydanticOutputParser(pydantic_object=Recipe)\n",
    "\n",
    "format_instructions = output_parser.get_format_instructions()\n",
    "print(format_instructions)"
   ]
  },
  {
   "cell_type": "code",
   "execution_count": 29,
   "metadata": {},
   "outputs": [],
   "source": [
    "prompt = ChatPromptTemplate.from_messages(\n",
    "    [\n",
    "        (\n",
    "            \"system\",\n",
    "            \"Think of a recipe for a dish entered by the user in Japanese.\\n\\n\"\n",
    "            \"{format_instructions}\",\n",
    "        ),\n",
    "        (\"human\", \"{dish}\"),\n",
    "    ]\n",
    ")\n",
    "\n",
    "prompt_with_format_instructions = prompt.partial(\n",
    "    format_instructions=format_instructions\n",
    ")"
   ]
  },
  {
   "cell_type": "code",
   "execution_count": 30,
   "metadata": {},
   "outputs": [
    {
     "name": "stdout",
     "output_type": "stream",
     "text": [
      "=== role: system ===\n",
      "Think of a recipe for a dish entered by the user in Japanese.\n",
      "\n",
      "The output should be formatted as a JSON instance that conforms to the JSON schema below.\n",
      "\n",
      "As an example, for the schema {\"properties\": {\"foo\": {\"title\": \"Foo\", \"description\": \"a list of strings\", \"type\": \"array\", \"items\": {\"type\": \"string\"}}}, \"required\": [\"foo\"]}\n",
      "the object {\"foo\": [\"bar\", \"baz\"]} is a well-formatted instance of the schema. The object {\"properties\": {\"foo\": [\"bar\", \"baz\"]}} is not well-formatted.\n",
      "\n",
      "Here is the output schema:\n",
      "```\n",
      "{\"properties\": {\"ingredients\": {\"description\": \"ingredients of the dish\", \"items\": {\"type\": \"string\"}, \"title\": \"Ingredients\", \"type\": \"array\"}, \"steps\": {\"description\": \"steps to cook the dish\", \"items\": {\"type\": \"string\"}, \"title\": \"Steps\", \"type\": \"array\"}}, \"required\": [\"ingredients\", \"steps\"]}\n",
      "```\n",
      "=== role: user ===\n",
      "チャーハン\n"
     ]
    }
   ],
   "source": [
    "prompt_value = prompt_with_format_instructions.invoke({\"dish\": \"チャーハン\"})\n",
    "print(\"=== role: system ===\")\n",
    "print(prompt_value.messages[0].content)\n",
    "print(\"=== role: user ===\")\n",
    "print(prompt_value.messages[1].content)"
   ]
  },
  {
   "cell_type": "code",
   "execution_count": 31,
   "metadata": {},
   "outputs": [
    {
     "name": "stdout",
     "output_type": "stream",
     "text": [
      "Here is a recipe for チャーハン (Chahan, Japanese Fried Rice) in JSON format:\n",
      "\n",
      "```\n",
      "{\n",
      "  \"ingredients\": [\n",
      "    \"cooked rice\",\n",
      "    \"vegetable oil\",\n",
      "    \"onion\",\n",
      "    \"garlic\",\n",
      "    \"ginger\",\n",
      "    \"scallions\",\n",
      "    \"soy sauce\",\n",
      "    \"salt\",\n",
      "    \"pepper\"\n",
      "  ],\n",
      "  \"steps\": [\n",
      "    \"Heat the vegetable oil in a large skillet or wok over medium-high heat.\",\n",
      "    \"Add the diced onion, garlic, and ginger and stir-fry until they are softened.\",\n",
      "    \"Add the cooked rice to the skillet or wok and stir-fry for about 5 minutes, breaking up any clumps with a spatula.\",\n",
      "    \"Add the soy sauce, salt, and pepper to the rice mixture and stir-fry for another minute.\",\n",
      "    \"Taste and adjust the seasoning as needed.\",\n",
      "    \"Transfer the Chahan to a serving platter and garnish with scallions.\"\n",
      "  ]\n",
      "}\n",
      "```\n",
      "\n",
      "Note: You can customize the ingredients and steps to your liking, and also add other ingredients such as cooked meat, seafood, or vegetables to make the dish more flavorful.\n"
     ]
    }
   ],
   "source": [
    "model = ChatOllama(\n",
    "    baseUrl=\"http://localhost:11434\",  # OllamaサーバーのURL\n",
    "    model=\"hf.co/lmstudio-community/Llama-3.3-70B-Instruct-GGUF:Q4_K_M\",  # 使用するモデル名\n",
    "    temperature=0 # 応答の多様性\n",
    ")\n",
    "\n",
    "ai_messages = model.invoke(prompt_value)\n",
    "print(ai_messages.content)"
   ]
  },
  {
   "cell_type": "code",
   "execution_count": 32,
   "metadata": {},
   "outputs": [
    {
     "name": "stdout",
     "output_type": "stream",
     "text": [
      "<class '__main__.Recipe'>\n",
      "ingredients=['cooked rice', 'vegetable oil', 'onion', 'garlic', 'ginger', 'scallions', 'soy sauce', 'salt', 'pepper'] steps=['Heat the vegetable oil in a large skillet or wok over medium-high heat.', 'Add the diced onion, garlic, and ginger and stir-fry until they are softened.', 'Add the cooked rice to the skillet or wok and stir-fry for about 5 minutes, breaking up any clumps with a spatula.', 'Add the soy sauce, salt, and pepper to the rice mixture and stir-fry for another minute.', 'Taste and adjust the seasoning as needed.', 'Transfer the Chahan to a serving platter and garnish with scallions.']\n"
     ]
    }
   ],
   "source": [
    "recipe = output_parser.invoke(ai_messages)\n",
    "print(type(recipe))\n",
    "print(recipe)"
   ]
  },
  {
   "cell_type": "code",
   "execution_count": 34,
   "metadata": {},
   "outputs": [],
   "source": [
    "from langchain_core.prompts import ChatPromptTemplate\n",
    "\n",
    "prompt = ChatPromptTemplate.from_messages(\n",
    "    [\n",
    "        (\"system\", \"Think of a recipe for a dish entered by the user in Japanese.\"),\n",
    "        (\"human\", \"{dish}\"),\n",
    "    ]\n",
    ")\n",
    "\n",
    "model = ChatOllama(\n",
    "    baseUrl=\"http://localhost:11434\",  # OllamaサーバーのURL\n",
    "    model=\"hf.co/lmstudio-community/Llama-3.3-70B-Instruct-GGUF:Q4_K_M\",  # 使用するモデル名\n",
    "    temperature=0 # 応答の多様性\n",
    ")"
   ]
  },
  {
   "cell_type": "code",
   "execution_count": 35,
   "metadata": {},
   "outputs": [],
   "source": [
    "chain = prompt | model"
   ]
  },
  {
   "cell_type": "code",
   "execution_count": 36,
   "metadata": {},
   "outputs": [
    {
     "name": "stdout",
     "output_type": "stream",
     "text": [
      "A classic Japanese dish! \n",
      "\n",
      "Here's a simple recipe for チャーハン (Chāhan), also known as Fried Rice:\n",
      "\n",
      "Ingredients:\n",
      "\n",
      "* 2 cups cooked Japanese rice (preferably day-old rice)\n",
      "* 1 tablespoon vegetable oil\n",
      "* 1 small onion, diced\n",
      "* 2 cloves garlic, minced\n",
      "* 1 cup mixed vegetables (e.g., peas, carrots, corn)\n",
      "* 2 eggs, beaten\n",
      "* 1 teaspoon soy sauce\n",
      "* 1 teaspoon oyster sauce (optional)\n",
      "* Salt and pepper to taste\n",
      "* Scallions, chopped (for garnish)\n",
      "\n",
      "Instructions:\n",
      "\n",
      "1. Heat the oil in a large skillet or wok over medium-high heat.\n",
      "2. Add the diced onion and cook until translucent.\n",
      "3. Add the minced garlic and cook for another minute.\n",
      "4. Add the mixed vegetables and cook until they're tender-crisp.\n",
      "5. Push the vegetables to one side of the pan. Crack in the beaten eggs and scramble them until cooked through. Then, mix the eggs with the vegetables.\n",
      "6. Add the cooked rice to the pan, breaking up any clumps with a spatula. Stir-fry the rice with the vegetables and eggs for about 5 minutes, or until everything is well combined and heated through.\n",
      "7. Add the soy sauce and oyster sauce (if using) to the rice mixture and stir-fry for another minute.\n",
      "8. Taste and adjust the seasoning as needed.\n",
      "9. Transfer the Chāhan to a serving platter or individual plates. Garnish with chopped scallions and serve immediately.\n",
      "\n",
      "Enjoy your delicious homemade チャーハン!\n"
     ]
    }
   ],
   "source": [
    "ai_messages = chain.invoke({\"dish\": \"チャーハン\"})\n",
    "print(ai_messages.content)"
   ]
  },
  {
   "cell_type": "code",
   "execution_count": 37,
   "metadata": {},
   "outputs": [
    {
     "name": "stdout",
     "output_type": "stream",
     "text": [
      "A classic Japanese dish! \n",
      "\n",
      "Here's a simple recipe for チャーハン (Chāhan), also known as Fried Rice:\n",
      "\n",
      "Ingredients:\n",
      "\n",
      "* 2 cups cooked Japanese rice (preferably day-old rice)\n",
      "* 1 tablespoon vegetable oil\n",
      "* 1 small onion, diced\n",
      "* 2 cloves garlic, minced\n",
      "* 1 cup mixed vegetables (e.g., peas, carrots, corn)\n",
      "* 2 eggs, beaten\n",
      "* 1 teaspoon soy sauce\n",
      "* 1 teaspoon oyster sauce (optional)\n",
      "* Salt and pepper to taste\n",
      "* Scallions, chopped (for garnish)\n",
      "\n",
      "Instructions:\n",
      "\n",
      "1. Heat the oil in a large skillet or wok over medium-high heat.\n",
      "2. Add the diced onion and cook until translucent.\n",
      "3. Add the minced garlic and cook for another minute.\n",
      "4. Add the mixed vegetables and cook until they're tender-crisp.\n",
      "5. Push the vegetables to one side of the pan. Crack in the beaten eggs and scramble them until cooked through. Then, mix the eggs with the vegetables.\n",
      "6. Add the cooked rice to the pan, breaking up any clumps with a spatula. Stir-fry the rice with the vegetables and eggs for about 5 minutes, or until everything is well combined and heated through.\n",
      "7. Add the soy sauce and oyster sauce (if using) to the rice mixture and stir-fry for another minute.\n",
      "8. Taste and adjust the seasoning as needed.\n",
      "9. Transfer the Chāhan to a serving platter or individual plates. Garnish with chopped scallions and serve immediately.\n",
      "\n",
      "Enjoy your delicious homemade チャーハン!\n"
     ]
    }
   ],
   "source": [
    "from langchain_core.output_parsers import StrOutputParser\n",
    "\n",
    "chain = prompt | model | StrOutputParser()\n",
    "output = chain.invoke({\"dish\": \"チャーハン\"})\n",
    "print(output)"
   ]
  },
  {
   "cell_type": "code",
   "execution_count": null,
   "metadata": {},
   "outputs": [],
   "source": []
  }
 ],
 "metadata": {
  "kernelspec": {
   "display_name": ".venv",
   "language": "python",
   "name": "python3"
  },
  "language_info": {
   "codemirror_mode": {
    "name": "ipython",
    "version": 3
   },
   "file_extension": ".py",
   "mimetype": "text/x-python",
   "name": "python",
   "nbconvert_exporter": "python",
   "pygments_lexer": "ipython3",
   "version": "3.12.7"
  }
 },
 "nbformat": 4,
 "nbformat_minor": 2
}
