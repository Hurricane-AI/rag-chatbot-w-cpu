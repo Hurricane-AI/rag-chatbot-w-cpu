{
 "cells": [
  {
   "cell_type": "code",
   "execution_count": null,
   "metadata": {},
   "outputs": [],
   "source": [
    "import streamlit as st\n",
    "import ollama\n",
    "from langchain.text_splitter import RecursiveCharacterTextSplitter\n",
    "from langchain_community.document_loaders import WebBaseLoader\n",
    "from langchain_community.vectorstores import Chroma\n",
    "from langchain_community.embeddings import OllamaEmbeddings\n",
    "\n",
    "st.title(\"Webページとのチャット 🌐\")\n",
    "st.caption(\"このアプリでは、ローカルのLlama-3とRAGを使用してWebページとチャットすることができます\")\n",
    "\n",
    "# ユーザーからWebページのURLを取得\n",
    "webpage_url = st.text_input(\"WebページのURLを入力してください\", type=\"default\")"
   ]
  },
  {
   "cell_type": "code",
   "execution_count": null,
   "metadata": {},
   "outputs": [],
   "source": [
    "if webpage_url:\n",
    "    # 1. データの読み込み\n",
    "    loader = WebBaseLoader(webpage_url)\n",
    "    docs = loader.load()\n",
    "    text_splitter = RecursiveCharacterTextSplitter(chunk_size=500, chunk_overlap=10)\n",
    "    splits = text_splitter.split_documents(docs)\n",
    "    \n",
    "    # 2. Ollamaの埋め込みとベクトルストアの作成\n",
    "    embeddings = OllamaEmbeddings(model=\"mxbai-embed-large\")\n",
    "    vectorstore = Chroma.from_documents(documents=splits, embedding=embeddings)\n",
    "    \n",
    "    # 3. Ollama Llama3モデルを呼び出す\n",
    "    def ollama_llm(question, context):\n",
    "        formatted_prompt = f\"Question: {question}\\n\\nContext: {context}\"\n",
    "        response = ollama.chat(model='hf.co/team-hatakeyama-phase2/Tanuki-8B-dpo-v1.0-GGUF:Q4_K_S', messages=[{'role': 'user', 'content': formatted_prompt}])\n",
    "        return response['message']['content']\n",
    "    \n",
    "    # 4. RAGのセットアップ\n",
    "    retriever = vectorstore.as_retriever()\n",
    "\n",
    "    def combine_docs(docs):\n",
    "        return \"\\n\\n\".join(doc.page_content for doc in docs)\n",
    "\n",
    "    def rag_chain(question):\n",
    "        retrieved_docs = retriever.invoke(question)\n",
    "        formatted_context = combine_docs(retrieved_docs)\n",
    "        return ollama_llm(question, formatted_context)\n",
    "\n",
    "    st.success(f\"{webpage_url}を正常にロードしました！\")"
   ]
  }
 ],
 "metadata": {
  "kernelspec": {
   "display_name": "jervis",
   "language": "python",
   "name": "python3"
  },
  "language_info": {
   "name": "python",
   "version": "3.12.7"
  }
 },
 "nbformat": 4,
 "nbformat_minor": 2
}
