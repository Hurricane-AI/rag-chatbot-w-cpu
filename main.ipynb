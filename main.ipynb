{
 "cells": [
  {
   "cell_type": "markdown",
   "metadata": {},
   "source": [
    "LangChain x Olama"
   ]
  },
  {
   "cell_type": "code",
   "execution_count": 1,
   "metadata": {},
   "outputs": [],
   "source": [
    "from langchain_core.prompts import ChatPromptTemplate\n",
    "from langchain_ollama.llms import OllamaLLM"
   ]
  },
  {
   "cell_type": "code",
   "execution_count": 2,
   "metadata": {},
   "outputs": [],
   "source": [
    "def main():\n",
    "    # MODEL\n",
    "    model = OllamaLLM(model=\"hf.co/team-hatakeyama-phase2/Tanuki-8B-dpo-v1.0-GGUF:Q4_K_S\")\n",
    "    \n",
    "    # PROMPT\n",
    "    template = \"\"\"Question: {question}\n",
    "    Answer: Let's think step by step.\"\"\"\n",
    "    prompt = ChatPromptTemplate.from_template(template)\n",
    "    \n",
    "    # CHAIN\n",
    "    chain = prompt | model\n",
    "    result = chain.invoke({\"question\": \"Daniel went back to the the the garden. Mary travelled to the kitchen. Sandra journeyed to the kitchen. Sandra went to the hallway. John went to the bedroom. Mary went back to the garden. Where is Mary?\"})\n",
    "    print(result)"
   ]
  },
  {
   "cell_type": "code",
   "execution_count": 3,
   "metadata": {},
   "outputs": [
    {
     "name": "stdout",
     "output_type": "stream",
     "text": [
      "To determine where Mary is located, let's follow the sequence of events as described in the question:\n",
      "\n",
      "1. Daniel went back to the garden.\n",
      "2. Mary travelled (walked) to the kitchen.\n",
      "3. Sandra journeyed (traveled) to the kitchen.\n",
      "4. Sandra went to the hallway.\n",
      "5. John went to the bedroom.\n",
      "6. Mary went back to the garden.\n",
      "\n",
      "From step 2, we know that Mary was in the kitchen initially after travelling there from somewhere else. However, by step 6, it is mentioned that Mary went back to the garden. Therefore, Mary is now located in the garden.\n",
      "\n",
      "So, Mary is currently in the garden.\n"
     ]
    }
   ],
   "source": [
    "if __name__ == \"__main__\":\n",
    "    main()"
   ]
  }
 ],
 "metadata": {
  "kernelspec": {
   "display_name": "jervis",
   "language": "python",
   "name": "python3"
  },
  "language_info": {
   "codemirror_mode": {
    "name": "ipython",
    "version": 3
   },
   "file_extension": ".py",
   "mimetype": "text/x-python",
   "name": "python",
   "nbconvert_exporter": "python",
   "pygments_lexer": "ipython3",
   "version": "3.12.7"
  }
 },
 "nbformat": 4,
 "nbformat_minor": 2
}
